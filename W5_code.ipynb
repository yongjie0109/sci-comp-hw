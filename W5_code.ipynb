{
 "cells": [
  {
   "cell_type": "markdown",
   "id": "d18c6f09",
   "metadata": {},
   "source": [
    "\\section*{1. Implement the program and explain the results.}\n",
    "\n",
    "\\subsection*{(a) Forward Euler Method}\n",
    "\n",
    "Use the forward Euler method to solve the following initial value problem:\n",
    "\\[\n",
    "y' = -5y, \\qquad y(0) = 1.\n",
    "\\]\n",
    "\n",
    "Solve the problem for \\( t \\in [0, 10] \\) with the following step sizes:\n",
    "\\[\n",
    "h = 0.4, \\quad h = 0.41, \\quad h = 0.1.\n",
    "\\]\n",
    "\n",
    "\\subsection*{(b) Backward Euler Method}\n",
    "\n",
    "Use the backward Euler method to solve the following initial value problem:\n",
    "\\[\n",
    "y' = 5y, \\qquad y(0) = 1.\n",
    "\\]\n",
    "\n",
    "Solve the problem for \\( t \\in [0, 10] \\) with the following step sizes:\n",
    "\\[\n",
    "h = 0.4, \\quad h = 0.41, \\quad h = 0.1.\n",
    "\\]\n"
   ]
  }
 ],
 "metadata": {
  "language_info": {
   "name": "python"
  }
 },
 "nbformat": 4,
 "nbformat_minor": 5
}
